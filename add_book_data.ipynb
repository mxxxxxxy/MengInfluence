{
 "cells": [
  {
   "cell_type": "code",
   "execution_count": 1,
   "metadata": {},
   "outputs": [],
   "source": [
    "import json\n",
    "import csv\n",
    "\n",
    "# 读取JSON数据\n",
    "with open('book_tree_full.json', 'r') as f:\n",
    "    json_data = json.load(f)\n",
    "\n",
    "# 读取CSV数据\n",
    "csv_data = {}\n",
    "with open('引据与梦溪笔谈的关联_卷题类.csv', 'r') as f:\n",
    "    reader = csv.DictReader(f)\n",
    "    for row in reader:\n",
    "        csv_data[row['卷名（主题0）']] = {'主题0归类': row['主题0归类'], '主题0顺序': row['主题0顺序']}\n",
    "\n",
    "# 遍历JSON数据\n",
    "def add_csv_data_to_json(json_data):\n",
    "    for item in json_data:\n",
    "        # 如果level为2\n",
    "        if item['level'] == 2:\n",
    "            # 在CSV数据中找到对应的数据\n",
    "            if item['name'] in csv_data:\n",
    "                # 添加到JSON数据中\n",
    "                item['主题0归类'] = csv_data[item['name']]['主题0归类']\n",
    "                item['主题0顺序'] = csv_data[item['name']]['主题0顺序']\n",
    "        # 如果有子节点，递归处理\n",
    "        if 'children' in item:\n",
    "            add_csv_data_to_json(item['children'])\n",
    "\n",
    "add_csv_data_to_json(json_data)\n",
    "\n",
    "# 将处理后的JSON数据写回文件\n",
    "with open('data.json', 'w') as f:\n",
    "    json.dump(json_data, f, ensure_ascii=False, indent=4)\n"
   ]
  }
 ],
 "metadata": {
  "kernelspec": {
   "display_name": "auto_legend",
   "language": "python",
   "name": "python3"
  },
  "language_info": {
   "codemirror_mode": {
    "name": "ipython",
    "version": 3
   },
   "file_extension": ".py",
   "mimetype": "text/x-python",
   "name": "python",
   "nbconvert_exporter": "python",
   "pygments_lexer": "ipython3",
   "version": "3.10.13"
  }
 },
 "nbformat": 4,
 "nbformat_minor": 2
}
