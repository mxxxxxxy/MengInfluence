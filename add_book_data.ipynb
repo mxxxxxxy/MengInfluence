{
 "cells": [
  {
   "cell_type": "code",
   "execution_count": 13,
   "metadata": {},
   "outputs": [
    {
     "name": "stdout",
     "output_type": "stream",
     "text": [
      "{'坤舆典': {'主题0归类': '历史地理', '主题0顺序': '25'}, '人事典': {'主题0归类': '政治法礼', '主题0顺序': '7'}, '': {'主题0归类': '', '主题0顺序': '43'}, '书': {'主题0归类': '', '主题0顺序': '41'}, '选举典': {'主题0归类': '政治法礼', '主题0顺序': '5'}, '官政治绩': {'主题0归类': '政治法礼', '主题0顺序': '8'}, '官职仪制': {'主题0归类': '政治法礼', '主题0顺序': '13'}, '词翰书籍': {'主题0归类': '文化艺术', '主题0顺序': '14'}, '典故沿革': {'主题0归类': '历史地理', '主题0顺序': '24'}, '昼夜时刻': {'主题0归类': '自然科学', '主题0顺序': '29'}, '典礼音律': {'主题0归类': '文化艺术', '主题0顺序': '17'}, '京畿四': {'主题0归类': '历史地理', '主题0顺序': '26'}, '冬总': {'主题0归类': '自然科学', '主题0顺序': '27'}, '道观': {'主题0归类': '哲学宗教', '主题0顺序': '1'}, '谈谐戏谑': {'主题0归类': '文化艺术', '主题0顺序': '22'}, '占相医药': {'主题0归类': '哲学宗教', '主题0顺序': '4'}, '书画技艺': {'主题0归类': '文化艺术', '主题0顺序': '16'}, '闰总': {'主题0归类': '自然科学', '主题0顺序': '28'}, '科举部': {'主题0归类': '政治法礼', '主题0顺序': '6'}, '婚礼门': {'主题0归类': '政治法礼', '主题0顺序': '11'}, '知遇之恩': {'主题0归类': '政治法礼', '主题0顺序': '9'}, '德量智识': {'主题0归类': '政治法礼', '主题0顺序': '10'}, '旷达隐逸': {'主题0归类': '记闻杂谈', '主题0顺序': '35'}, '东都事略跋': {'主题0归类': '记闻杂谈', '主题0顺序': '39'}, '仙释僧道': {'主题0归类': '哲学宗教', '主题0顺序': '2'}, '物候': {'主题0归类': '自然科学', '主题0顺序': '30'}, '法书': {'主题0归类': '文化艺术', '主题0顺序': '15'}, '跋': {'主题0归类': '', '主题0顺序': '42'}, '岁令总补': {'主题0归类': '自然科学', '主题0顺序': '31'}, '历法典': {'主题0归类': '自然科学', '主题0顺序': '32'}, '本草': {'主题0归类': '自然科学', '主题0顺序': '33'}, '作诗': {'主题0归类': '文化艺术', '主题0顺序': '19'}, '衣冠盛事': {'主题0归类': '政治法礼', '主题0顺序': '12'}, '诗歌赋咏': {'主题0归类': '文化艺术', '主题0顺序': '20'}, '文章四六': {'主题0归类': '文化艺术', '主题0顺序': '18'}, '杂缀': {'主题0归类': '记闻杂谈', '主题0顺序': '38'}, '风俗杂志': {'主题0归类': '记闻杂谈', '主题0顺序': '37'}, '作文': {'主题0归类': '文化艺术', '主题0顺序': '21'}, '广知博识': {'主题0归类': '记闻杂谈', '主题0顺序': '36'}, '治河后策下卷': {'主题0归类': '自然科学', '主题0顺序': '34'}, '休祥梦兆': {'主题0归类': '哲学宗教', '主题0顺序': '3'}, '蕃书': {'主题0归类': '文化艺术', '主题0顺序': '23'}, '京畿五': {'主题0归类': '历史地理', '主题0顺序': '26'}, '杂著': {'主题0归类': '记闻杂谈', '主题0顺序': '40'}}\n"
     ]
    }
   ],
   "source": [
    "import json\n",
    "import csv\n",
    "\n",
    "# 读取JSON数据\n",
    "with open('book_tree_full.json', 'r') as f:\n",
    "    json_data = json.load(f)\n",
    "\n",
    "# 读取CSV数据\n",
    "csv_data = {}\n",
    "with open('引据与梦溪笔谈的关联_卷题类.csv', 'r') as f:\n",
    "    reader = csv.DictReader(f)\n",
    "    for row in reader:\n",
    "        csv_data[row['卷名（主题0）']] = {'主题0归类': row['主题0归类'], '主题0顺序': row['主题0顺序']}\n",
    "print(csv_data)\n",
    "\n",
    "# 遍历JSON数据\n",
    "def add_csv_data_to_json(json_data):\n",
    "    for item in json_data:\n",
    "        # 如果level为2\n",
    "        if item['level'] == 2:\n",
    "            # 在CSV数据中找到对应的数据\n",
    "            if item['name'] in csv_data:\n",
    "                # 添加到JSON数据中\n",
    "                item['主题0归类'] = csv_data[item['name']]['主题0归类']\n",
    "                item['主题0顺序'] = csv_data[item['name']]['主题0顺序']\n",
    "        # 如果有子节点，递归处理\n",
    "        if 'children' in item:\n",
    "            add_csv_data_to_json(item['children'])\n",
    "\n",
    "add_csv_data_to_json(json_data)\n",
    "\n",
    "# 将处理后的JSON数据写回文件\n",
    "with open('data.json', 'w') as f:\n",
    "    json.dump(json_data, f, ensure_ascii=False, indent=4)\n"
   ]
  },
  {
   "cell_type": "code",
   "execution_count": 31,
   "metadata": {},
   "outputs": [],
   "source": [
    "import csv\n",
    "import json\n",
    "\n",
    "# 读取CSV文件\n",
    "with open('引据与梦溪笔谈的关联_卷题类.csv', 'r', encoding='utf-8') as f:\n",
    "    reader = csv.DictReader(f)\n",
    "    csv_data = list(reader)\n",
    "\n",
    "# 读取JSON文件\n",
    "with open('book_tree_full.json', 'r', encoding='utf-8') as f:\n",
    "    json_data = json.load(f)\n",
    "\n",
    "# 定义一个函数，用于遍历JSON数据并添加“卷题类”字段\n",
    "def add_field_to_json(json_data):\n",
    "    if isinstance(json_data, list):\n",
    "        for item in json_data:\n",
    "            add_field_to_json(item)\n",
    "    elif isinstance(json_data, dict):\n",
    "        if json_data.get('level') == 3:\n",
    "            # 如果我们找到了一个\"level\": 3的条目，我们就在\"value\"字段中添加“卷题类”\n",
    "            for value in json_data['value']:\n",
    "                if '卷题' in value:\n",
    "                    title = value['卷题']\n",
    "                    for row in csv_data:\n",
    "                        if row['卷题'] == title:\n",
    "                            value['卷题类'] = row['卷题类']\n",
    "                            break\n",
    "        for value in json_data.values():\n",
    "            if isinstance(value, dict) or isinstance(value, list):\n",
    "                add_field_to_json(value)\n",
    "\n",
    "\n",
    "# 调用函数，开始处理数据\n",
    "add_field_to_json(json_data)\n",
    "\n",
    "# 将处理后的JSON数据写回文件\n",
    "with open('data.json', 'w', encoding='utf-8') as f:\n",
    "    json.dump(json_data, f, ensure_ascii=False, indent=4)\n"
   ]
  }
 ],
 "metadata": {
  "kernelspec": {
   "display_name": "auto_legend",
   "language": "python",
   "name": "python3"
  },
  "language_info": {
   "codemirror_mode": {
    "name": "ipython",
    "version": 3
   },
   "file_extension": ".py",
   "mimetype": "text/x-python",
   "name": "python",
   "nbconvert_exporter": "python",
   "pygments_lexer": "ipython3",
   "version": "3.10.13"
  }
 },
 "nbformat": 4,
 "nbformat_minor": 2
}
