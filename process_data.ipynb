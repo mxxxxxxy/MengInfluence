{
 "cells": [
  {
   "cell_type": "code",
   "execution_count": 4,
   "metadata": {},
   "outputs": [],
   "source": [
    "import csv\n",
    "# ID,书名,引文,条目名（主题1）,卷数,卷名（主题0）,主题2,梦溪笔谈卷数,梦溪笔谈条目序数,卷题\n",
    "with open(\"./引据与梦溪笔谈的关联_卷题类.csv\", \"r\", encoding=\"utf-8-sig\") as csvfile:\n",
    "    reader = csv.DictReader(csvfile)\n",
    "    data = [row for row in reader]\n",
    "\n",
    "def group_by_attr(data: list, attr: str):\n",
    "    res = {}\n",
    "    for d in data:\n",
    "        if d[attr] not in res:\n",
    "            res[d[attr]] = [d]\n",
    "        else:\n",
    "            res[d[attr]].append(d)\n",
    "    return res\n"
   ]
  },
  {
   "cell_type": "code",
   "execution_count": 5,
   "metadata": {},
   "outputs": [],
   "source": [
    "\n",
    "book_structure = [\"书名\", \"主题2\", \"卷名（主题0）\", \"条目名（主题1）\"]\n",
    "\n",
    "def get_book_tree(data, book_level, current_level):\n",
    "    level_items = group_by_attr(data, book_level[current_level])\n",
    "    if current_level == 3:\n",
    "        return level_items\n",
    "    # elif len(level_items) == 1 and '' in level_items:  #取消注释 将会让缺少上级目录的下一级目录上移\n",
    "    #     return get_book_tree(data, book_level, current_level + 1)\n",
    "    for attr_name, items in level_items.items():\n",
    "        sub_tree = get_book_tree(items, book_level, current_level + 1)\n",
    "        level_items[attr_name] = sub_tree\n",
    "    return level_items\n",
    "\n",
    "res = get_book_tree(data, book_structure, 0)"
   ]
  },
  {
   "cell_type": "code",
   "execution_count": 6,
   "metadata": {},
   "outputs": [],
   "source": [
    "import json\n",
    "with open(\"book_tree_full.json\",\"w\", encoding=\"utf-8\") as f:\n",
    "    f.write(json.dumps(res, ensure_ascii=False))"
   ]
  }
 ],
 "metadata": {
  "kernelspec": {
   "display_name": "auto_legend",
   "language": "python",
   "name": "python3"
  },
  "language_info": {
   "codemirror_mode": {
    "name": "ipython",
    "version": 3
   },
   "file_extension": ".py",
   "mimetype": "text/x-python",
   "name": "python",
   "nbconvert_exporter": "python",
   "pygments_lexer": "ipython3",
   "version": "3.10.13"
  }
 },
 "nbformat": 4,
 "nbformat_minor": 2
}
